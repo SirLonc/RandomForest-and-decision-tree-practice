{
 "cells": [
  {
   "cell_type": "code",
   "execution_count": 1,
   "id": "b2f456a6",
   "metadata": {},
   "outputs": [],
   "source": [
    "import pandas as pd\n",
    "import numpy as np\n",
    "from sklearn import tree\n",
    "from sklearn.model_selection import GridSearchCV\n",
    "from sklearn.ensemble import RandomForestClassifier\n",
    "import matplotlib.pyplot as plt"
   ]
  },
  {
   "cell_type": "code",
   "execution_count": 2,
   "id": "01126361",
   "metadata": {},
   "outputs": [],
   "source": [
    "dt = pd.read_csv('Downloads/invasion.csv')"
   ]
  },
  {
   "cell_type": "code",
   "execution_count": 3,
   "id": "5b04dbc6",
   "metadata": {},
   "outputs": [],
   "source": [
    "clf = RandomForestClassifier(random_state=0)"
   ]
  },
  {
   "cell_type": "code",
   "execution_count": 4,
   "id": "b19d649d",
   "metadata": {},
   "outputs": [
    {
     "data": {
      "text/html": [
       "<div>\n",
       "<style scoped>\n",
       "    .dataframe tbody tr th:only-of-type {\n",
       "        vertical-align: middle;\n",
       "    }\n",
       "\n",
       "    .dataframe tbody tr th {\n",
       "        vertical-align: top;\n",
       "    }\n",
       "\n",
       "    .dataframe thead th {\n",
       "        text-align: right;\n",
       "    }\n",
       "</style>\n",
       "<table border=\"1\" class=\"dataframe\">\n",
       "  <thead>\n",
       "    <tr style=\"text-align: right;\">\n",
       "      <th></th>\n",
       "      <th>class</th>\n",
       "      <th>g_reflection</th>\n",
       "      <th>i_reflection</th>\n",
       "      <th>speed</th>\n",
       "      <th>brightness</th>\n",
       "      <th>time_of_observance</th>\n",
       "      <th>volume</th>\n",
       "    </tr>\n",
       "  </thead>\n",
       "  <tbody>\n",
       "    <tr>\n",
       "      <th>0</th>\n",
       "      <td>transport</td>\n",
       "      <td>2.190672</td>\n",
       "      <td>6.716633</td>\n",
       "      <td>62.168208</td>\n",
       "      <td>0.347465</td>\n",
       "      <td>158221</td>\n",
       "      <td>44.932446</td>\n",
       "    </tr>\n",
       "    <tr>\n",
       "      <th>1</th>\n",
       "      <td>transport</td>\n",
       "      <td>3.453276</td>\n",
       "      <td>8.995909</td>\n",
       "      <td>62.994707</td>\n",
       "      <td>0.590094</td>\n",
       "      <td>385972</td>\n",
       "      <td>41.568300</td>\n",
       "    </tr>\n",
       "    <tr>\n",
       "      <th>2</th>\n",
       "      <td>transport</td>\n",
       "      <td>2.432994</td>\n",
       "      <td>6.938691</td>\n",
       "      <td>62.245807</td>\n",
       "      <td>0.329288</td>\n",
       "      <td>446482</td>\n",
       "      <td>40.123467</td>\n",
       "    </tr>\n",
       "    <tr>\n",
       "      <th>3</th>\n",
       "      <td>fighter</td>\n",
       "      <td>6.083763</td>\n",
       "      <td>3.019459</td>\n",
       "      <td>18.474555</td>\n",
       "      <td>0.174738</td>\n",
       "      <td>210125</td>\n",
       "      <td>11.384865</td>\n",
       "    </tr>\n",
       "    <tr>\n",
       "      <th>4</th>\n",
       "      <td>fighter</td>\n",
       "      <td>12.876769</td>\n",
       "      <td>2.452950</td>\n",
       "      <td>195.805771</td>\n",
       "      <td>0.150446</td>\n",
       "      <td>23109</td>\n",
       "      <td>11.328806</td>\n",
       "    </tr>\n",
       "    <tr>\n",
       "      <th>...</th>\n",
       "      <td>...</td>\n",
       "      <td>...</td>\n",
       "      <td>...</td>\n",
       "      <td>...</td>\n",
       "      <td>...</td>\n",
       "      <td>...</td>\n",
       "      <td>...</td>\n",
       "    </tr>\n",
       "    <tr>\n",
       "      <th>495</th>\n",
       "      <td>fighter</td>\n",
       "      <td>9.901731</td>\n",
       "      <td>7.162124</td>\n",
       "      <td>58.095069</td>\n",
       "      <td>0.145065</td>\n",
       "      <td>395762</td>\n",
       "      <td>12.901909</td>\n",
       "    </tr>\n",
       "    <tr>\n",
       "      <th>496</th>\n",
       "      <td>transport</td>\n",
       "      <td>3.574132</td>\n",
       "      <td>7.118835</td>\n",
       "      <td>62.928159</td>\n",
       "      <td>0.469670</td>\n",
       "      <td>435926</td>\n",
       "      <td>39.926551</td>\n",
       "    </tr>\n",
       "    <tr>\n",
       "      <th>497</th>\n",
       "      <td>fighter</td>\n",
       "      <td>9.186049</td>\n",
       "      <td>4.580781</td>\n",
       "      <td>412.102112</td>\n",
       "      <td>0.108195</td>\n",
       "      <td>299594</td>\n",
       "      <td>12.178203</td>\n",
       "    </tr>\n",
       "    <tr>\n",
       "      <th>498</th>\n",
       "      <td>fighter</td>\n",
       "      <td>8.278256</td>\n",
       "      <td>8.353756</td>\n",
       "      <td>268.121561</td>\n",
       "      <td>0.132661</td>\n",
       "      <td>361911</td>\n",
       "      <td>13.905809</td>\n",
       "    </tr>\n",
       "    <tr>\n",
       "      <th>499</th>\n",
       "      <td>transport</td>\n",
       "      <td>0.860820</td>\n",
       "      <td>8.014988</td>\n",
       "      <td>62.292486</td>\n",
       "      <td>0.304896</td>\n",
       "      <td>364601</td>\n",
       "      <td>46.151972</td>\n",
       "    </tr>\n",
       "  </tbody>\n",
       "</table>\n",
       "<p>500 rows × 7 columns</p>\n",
       "</div>"
      ],
      "text/plain": [
       "         class  g_reflection  i_reflection       speed  brightness  \\\n",
       "0    transport      2.190672      6.716633   62.168208    0.347465   \n",
       "1    transport      3.453276      8.995909   62.994707    0.590094   \n",
       "2    transport      2.432994      6.938691   62.245807    0.329288   \n",
       "3      fighter      6.083763      3.019459   18.474555    0.174738   \n",
       "4      fighter     12.876769      2.452950  195.805771    0.150446   \n",
       "..         ...           ...           ...         ...         ...   \n",
       "495    fighter      9.901731      7.162124   58.095069    0.145065   \n",
       "496  transport      3.574132      7.118835   62.928159    0.469670   \n",
       "497    fighter      9.186049      4.580781  412.102112    0.108195   \n",
       "498    fighter      8.278256      8.353756  268.121561    0.132661   \n",
       "499  transport      0.860820      8.014988   62.292486    0.304896   \n",
       "\n",
       "     time_of_observance     volume  \n",
       "0                158221  44.932446  \n",
       "1                385972  41.568300  \n",
       "2                446482  40.123467  \n",
       "3                210125  11.384865  \n",
       "4                 23109  11.328806  \n",
       "..                  ...        ...  \n",
       "495              395762  12.901909  \n",
       "496              435926  39.926551  \n",
       "497              299594  12.178203  \n",
       "498              361911  13.905809  \n",
       "499              364601  46.151972  \n",
       "\n",
       "[500 rows x 7 columns]"
      ]
     },
     "execution_count": 4,
     "metadata": {},
     "output_type": "execute_result"
    }
   ],
   "source": [
    "dt"
   ]
  },
  {
   "cell_type": "code",
   "execution_count": 5,
   "id": "22cc4016",
   "metadata": {},
   "outputs": [],
   "source": [
    "X_train = dt.drop('class',axis = 1)"
   ]
  },
  {
   "cell_type": "code",
   "execution_count": 6,
   "id": "57c576bc",
   "metadata": {},
   "outputs": [],
   "source": [
    "y_train = dt['class']"
   ]
  },
  {
   "cell_type": "code",
   "execution_count": 7,
   "id": "c131e970",
   "metadata": {},
   "outputs": [],
   "source": [
    "parametrs = {'max_depth': range(1,50,5), 'min_samples_leaf': range(1,10,2), 'min_samples_split': range(1,9)}"
   ]
  },
  {
   "cell_type": "code",
   "execution_count": 8,
   "id": "22702af1",
   "metadata": {},
   "outputs": [],
   "source": [
    "grid_search_cv_clf = GridSearchCV(clf,parametrs,cv = 5,n_jobs = -1)"
   ]
  },
  {
   "cell_type": "code",
   "execution_count": 9,
   "id": "4694580d",
   "metadata": {},
   "outputs": [
    {
     "name": "stderr",
     "output_type": "stream",
     "text": [
      "c:\\users\\bigre\\appdata\\local\\programs\\python\\python39\\lib\\site-packages\\sklearn\\model_selection\\_validation.py:372: FitFailedWarning: \n",
      "250 fits failed out of a total of 2000.\n",
      "The score on these train-test partitions for these parameters will be set to nan.\n",
      "If these failures are not expected, you can try to debug them by setting error_score='raise'.\n",
      "\n",
      "Below are more details about the failures:\n",
      "--------------------------------------------------------------------------------\n",
      "250 fits failed with the following error:\n",
      "Traceback (most recent call last):\n",
      "  File \"c:\\users\\bigre\\appdata\\local\\programs\\python\\python39\\lib\\site-packages\\sklearn\\model_selection\\_validation.py\", line 680, in _fit_and_score\n",
      "    estimator.fit(X_train, y_train, **fit_params)\n",
      "  File \"c:\\users\\bigre\\appdata\\local\\programs\\python\\python39\\lib\\site-packages\\sklearn\\ensemble\\_forest.py\", line 450, in fit\n",
      "    trees = Parallel(\n",
      "  File \"c:\\users\\bigre\\appdata\\local\\programs\\python\\python39\\lib\\site-packages\\joblib\\parallel.py\", line 1043, in __call__\n",
      "    if self.dispatch_one_batch(iterator):\n",
      "  File \"c:\\users\\bigre\\appdata\\local\\programs\\python\\python39\\lib\\site-packages\\joblib\\parallel.py\", line 861, in dispatch_one_batch\n",
      "    self._dispatch(tasks)\n",
      "  File \"c:\\users\\bigre\\appdata\\local\\programs\\python\\python39\\lib\\site-packages\\joblib\\parallel.py\", line 779, in _dispatch\n",
      "    job = self._backend.apply_async(batch, callback=cb)\n",
      "  File \"c:\\users\\bigre\\appdata\\local\\programs\\python\\python39\\lib\\site-packages\\joblib\\_parallel_backends.py\", line 208, in apply_async\n",
      "    result = ImmediateResult(func)\n",
      "  File \"c:\\users\\bigre\\appdata\\local\\programs\\python\\python39\\lib\\site-packages\\joblib\\_parallel_backends.py\", line 572, in __init__\n",
      "    self.results = batch()\n",
      "  File \"c:\\users\\bigre\\appdata\\local\\programs\\python\\python39\\lib\\site-packages\\joblib\\parallel.py\", line 262, in __call__\n",
      "    return [func(*args, **kwargs)\n",
      "  File \"c:\\users\\bigre\\appdata\\local\\programs\\python\\python39\\lib\\site-packages\\joblib\\parallel.py\", line 262, in <listcomp>\n",
      "    return [func(*args, **kwargs)\n",
      "  File \"c:\\users\\bigre\\appdata\\local\\programs\\python\\python39\\lib\\site-packages\\sklearn\\utils\\fixes.py\", line 216, in __call__\n",
      "    return self.function(*args, **kwargs)\n",
      "  File \"c:\\users\\bigre\\appdata\\local\\programs\\python\\python39\\lib\\site-packages\\sklearn\\ensemble\\_forest.py\", line 185, in _parallel_build_trees\n",
      "    tree.fit(X, y, sample_weight=curr_sample_weight, check_input=False)\n",
      "  File \"c:\\users\\bigre\\appdata\\local\\programs\\python\\python39\\lib\\site-packages\\sklearn\\tree\\_classes.py\", line 937, in fit\n",
      "    super().fit(\n",
      "  File \"c:\\users\\bigre\\appdata\\local\\programs\\python\\python39\\lib\\site-packages\\sklearn\\tree\\_classes.py\", line 250, in fit\n",
      "    raise ValueError(\n",
      "ValueError: min_samples_split must be an integer greater than 1 or a float in (0.0, 1.0]; got the integer 1\n",
      "\n",
      "  warnings.warn(some_fits_failed_message, FitFailedWarning)\n",
      "c:\\users\\bigre\\appdata\\local\\programs\\python\\python39\\lib\\site-packages\\sklearn\\model_selection\\_search.py:969: UserWarning: One or more of the test scores are non-finite: [ nan 0.86 0.86 0.86 0.86 0.86 0.86 0.86  nan 0.86 0.86 0.86 0.86 0.86\n",
      " 0.86 0.86  nan 0.86 0.86 0.86 0.86 0.86 0.86 0.86  nan 0.86 0.86 0.86\n",
      " 0.86 0.86 0.86 0.86  nan 0.86 0.86 0.86 0.86 0.86 0.86 0.86  nan 1.\n",
      " 1.   1.   1.   1.   1.   1.    nan 1.   1.   1.   1.   1.   1.   1.\n",
      "  nan 1.   1.   1.   1.   1.   1.   1.    nan 1.   1.   1.   1.   1.\n",
      " 1.   1.    nan 1.   1.   1.   1.   1.   1.   1.    nan 1.   1.   1.\n",
      " 1.   1.   1.   1.    nan 1.   1.   1.   1.   1.   1.   1.    nan 1.\n",
      " 1.   1.   1.   1.   1.   1.    nan 1.   1.   1.   1.   1.   1.   1.\n",
      "  nan 1.   1.   1.   1.   1.   1.   1.    nan 1.   1.   1.   1.   1.\n",
      " 1.   1.    nan 1.   1.   1.   1.   1.   1.   1.    nan 1.   1.   1.\n",
      " 1.   1.   1.   1.    nan 1.   1.   1.   1.   1.   1.   1.    nan 1.\n",
      " 1.   1.   1.   1.   1.   1.    nan 1.   1.   1.   1.   1.   1.   1.\n",
      "  nan 1.   1.   1.   1.   1.   1.   1.    nan 1.   1.   1.   1.   1.\n",
      " 1.   1.    nan 1.   1.   1.   1.   1.   1.   1.    nan 1.   1.   1.\n",
      " 1.   1.   1.   1.    nan 1.   1.   1.   1.   1.   1.   1.    nan 1.\n",
      " 1.   1.   1.   1.   1.   1.    nan 1.   1.   1.   1.   1.   1.   1.\n",
      "  nan 1.   1.   1.   1.   1.   1.   1.    nan 1.   1.   1.   1.   1.\n",
      " 1.   1.    nan 1.   1.   1.   1.   1.   1.   1.    nan 1.   1.   1.\n",
      " 1.   1.   1.   1.    nan 1.   1.   1.   1.   1.   1.   1.    nan 1.\n",
      " 1.   1.   1.   1.   1.   1.    nan 1.   1.   1.   1.   1.   1.   1.\n",
      "  nan 1.   1.   1.   1.   1.   1.   1.    nan 1.   1.   1.   1.   1.\n",
      " 1.   1.    nan 1.   1.   1.   1.   1.   1.   1.    nan 1.   1.   1.\n",
      " 1.   1.   1.   1.    nan 1.   1.   1.   1.   1.   1.   1.    nan 1.\n",
      " 1.   1.   1.   1.   1.   1.    nan 1.   1.   1.   1.   1.   1.   1.\n",
      "  nan 1.   1.   1.   1.   1.   1.   1.    nan 1.   1.   1.   1.   1.\n",
      " 1.   1.    nan 1.   1.   1.   1.   1.   1.   1.    nan 1.   1.   1.\n",
      " 1.   1.   1.   1.    nan 1.   1.   1.   1.   1.   1.   1.    nan 1.\n",
      " 1.   1.   1.   1.   1.   1.    nan 1.   1.   1.   1.   1.   1.   1.\n",
      "  nan 1.   1.   1.   1.   1.   1.   1.  ]\n",
      "  warnings.warn(\n"
     ]
    },
    {
     "data": {
      "text/plain": [
       "GridSearchCV(cv=5, estimator=RandomForestClassifier(random_state=0), n_jobs=-1,\n",
       "             param_grid={'max_depth': range(1, 50, 5),\n",
       "                         'min_samples_leaf': range(1, 10, 2),\n",
       "                         'min_samples_split': range(1, 9)})"
      ]
     },
     "execution_count": 9,
     "metadata": {},
     "output_type": "execute_result"
    }
   ],
   "source": [
    "grid_search_cv_clf.fit(X_train,y_train)"
   ]
  },
  {
   "cell_type": "code",
   "execution_count": 10,
   "id": "f979db64",
   "metadata": {},
   "outputs": [],
   "source": [
    "best_clf = grid_search_cv_clf.best_estimator_"
   ]
  },
  {
   "cell_type": "code",
   "execution_count": 11,
   "id": "7fc4b8ce",
   "metadata": {},
   "outputs": [],
   "source": [
    "X_test = pd.read_csv('Downloads/operative_information.csv')"
   ]
  },
  {
   "cell_type": "code",
   "execution_count": 13,
   "id": "becee97e",
   "metadata": {},
   "outputs": [],
   "source": [
    "pr = best_clf.predict(X_test)"
   ]
  },
  {
   "cell_type": "code",
   "execution_count": 15,
   "id": "ce09a8e9",
   "metadata": {},
   "outputs": [
    {
     "data": {
      "text/plain": [
       "fighter      675\n",
       "transport    595\n",
       "cruiser      230\n",
       "dtype: int64"
      ]
     },
     "execution_count": 15,
     "metadata": {},
     "output_type": "execute_result"
    }
   ],
   "source": [
    "pd.Series(pr).value_counts()"
   ]
  },
  {
   "cell_type": "code",
   "execution_count": 17,
   "id": "97a025b6",
   "metadata": {},
   "outputs": [
    {
     "data": {
      "text/plain": [
       "array([0.18529373, 0.09369417, 0.11752853, 0.27894357, 0.00068465,\n",
       "       0.32385534])"
      ]
     },
     "execution_count": 17,
     "metadata": {},
     "output_type": "execute_result"
    }
   ],
   "source": [
    "best_clf.feature_importances_"
   ]
  },
  {
   "cell_type": "code",
   "execution_count": 18,
   "id": "8c0b46fd",
   "metadata": {},
   "outputs": [],
   "source": [
    "feature_importance = pd.DataFrame(best_clf.feature_importances_, index = X_train.columns,columns=['importance'])"
   ]
  },
  {
   "cell_type": "code",
   "execution_count": 20,
   "id": "a3ad61e0",
   "metadata": {},
   "outputs": [
    {
     "data": {
      "text/plain": [
       "<AxesSubplot:>"
      ]
     },
     "execution_count": 20,
     "metadata": {},
     "output_type": "execute_result"
    },
    {
     "data": {
      "image/png": "[encoded data removed]",
      "text/plain": [
       "<Figure size 432x288 with 1 Axes>"
      ]
     },
     "metadata": {
      "needs_background": "light"
     },
     "output_type": "display_data"
    }
   ],
   "source": [
    "feature_importance.sort_values('importance').plot(kind = 'barh')"
   ]
  },
  {
   "cell_type": "code",
   "execution_count": null,
   "id": "7e85b75c",
   "metadata": {},
   "outputs": [],
   "source": []
  }
 ],
 "metadata": {
  "kernelspec": {
   "display_name": "Python 3 (ipykernel)",
   "language": "python",
   "name": "python3"
  },
  "language_info": {
   "codemirror_mode": {
    "name": "ipython",
    "version": 3
   },
   "file_extension": ".py",
   "mimetype": "text/x-python",
   "name": "python",
   "nbconvert_exporter": "python",
   "pygments_lexer": "ipython3",
   "version": "3.9.5"
  }
 },
 "nbformat": 4,
 "nbformat_minor": 5
}
